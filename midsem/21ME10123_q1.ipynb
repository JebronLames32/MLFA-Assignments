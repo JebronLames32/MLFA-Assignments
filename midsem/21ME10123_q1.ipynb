{
 "cells": [
  {
   "cell_type": "code",
   "execution_count": 16,
   "id": "f2daef50",
   "metadata": {},
   "outputs": [],
   "source": [
    "# importing the libraries\n",
    "import numpy as np\n",
    "import matplotlib.pyplot as plt\n",
    "import pandas as pd\n"
   ]
  },
  {
   "cell_type": "markdown",
   "id": "480789fd",
   "metadata": {},
   "source": [
    "A. Creating the 5d vector"
   ]
  },
  {
   "cell_type": "code",
   "execution_count": 17,
   "id": "4498a046",
   "metadata": {},
   "outputs": [
    {
     "name": "stdout",
     "output_type": "stream",
     "text": [
      "W =  [0.90153739 1.11478177 2.93487033 3.02098963 4.69331004]\n"
     ]
    }
   ],
   "source": [
    "# create a random 5d vector\n",
    "W=[]\n",
    "for i in range(5):\n",
    "    # generate a random number between 0 and 1\n",
    "    x = np.random.rand()\n",
    "    x+=i\n",
    "    W.append(x)\n",
    "W = np.array(W)\n",
    "print(\"W = \",W)"
   ]
  },
  {
   "cell_type": "code",
   "execution_count": 18,
   "id": "3134c8df",
   "metadata": {},
   "outputs": [],
   "source": [
    "# Use  it  to  generate  N=1000  data-points  {Xi,  Yi},  where  Yi=  W.Xi+  ei,  where  Xiis \n",
    "#  a  5D  featurevectorwhere each featureisuniformlybetween(-10,10)and ei is a random value between-1and1.\n",
    "dataset = pd.DataFrame(columns=['X','Y'])\n",
    "X_list=[]\n",
    "Y_list=[]\n",
    "for i in range(1000):\n",
    "    x = np.random.uniform(-10,10,5)\n",
    "    x=np.array(x)\n",
    "    e=np.random.uniform(-1,1)\n",
    "    y = np.dot(W,x)+e\n",
    "    y=np.array(y)\n",
    "    X_list.append(x)\n",
    "    Y_list.append(y)\n",
    "dataset['X']=X_list\n",
    "dataset['Y']=Y_list\n"
   ]
  },
  {
   "cell_type": "code",
   "execution_count": 21,
   "id": "bfc08c52",
   "metadata": {},
   "outputs": [
    {
     "name": "stdout",
     "output_type": "stream",
     "text": [
      "W1 =  [0.89898342 1.11509264 2.93482204 3.01515413 4.6923417 ]\n"
     ]
    }
   ],
   "source": [
    "# fit a linear regression model on X,Y and estimate W1\n",
    "from sklearn.linear_model import LinearRegression\n",
    "regressor = LinearRegression()\n",
    "regressor.fit(X_list,Y_list)\n",
    "W1 = regressor.coef_\n",
    "print(\"W1 = \",W1)\n"
   ]
  },
  {
   "cell_type": "code",
   "execution_count": 23,
   "id": "1882a13e",
   "metadata": {},
   "outputs": [
    {
     "name": "stdout",
     "output_type": "stream",
     "text": [
      "error =  [ 2.55396793e-03 -3.10868324e-04  4.82938161e-05  5.83549467e-03\n",
      "  9.68337026e-04]\n",
      "estimation error =  8.322479657526784e-06\n",
      "mean squared error =  0.3420076678643176\n"
     ]
    }
   ],
   "source": [
    "# calculate the estimation error and the mean squared error\n",
    "error = W-W1\n",
    "print(\"error = \",error)\n",
    "est = np.mean(error**2)\n",
    "print(\"estimation error = \",est)\n",
    "\n",
    "# finding the mean squared error using the formula summation (Yi-W.Xi)^2/N\n",
    "mse = 0\n",
    "for i in range(1000):\n",
    "    mse += (Y_list[i]-np.dot(W,X_list[i]))**2\n",
    "mse = mse/1000\n",
    "print(\"mean squared error = \",mse)"
   ]
  },
  {
   "cell_type": "code",
   "execution_count": 25,
   "id": "a5d44b8c",
   "metadata": {},
   "outputs": [],
   "source": [
    "# fit a lasso regression model on X,Y and estimate W2 for different values of lambda (1 to 20)\n",
    "from sklearn.linear_model import Lasso\n",
    "W2_list=[]\n",
    "for i in range(1,21):\n",
    "    regressor = Lasso(alpha=i)\n",
    "    regressor.fit(X_list,Y_list)\n",
    "    W2 = regressor.coef_\n",
    "    W2_list.append(W2)"
   ]
  },
  {
   "cell_type": "code",
   "execution_count": 29,
   "id": "692dd320",
   "metadata": {},
   "outputs": [
    {
     "name": "stdout",
     "output_type": "stream",
     "text": [
      "W3 =  [0.         0.         2.90542427 2.98322728 4.66354339]\n",
      "W3 =  [0.         0.         2.87602649 2.95130041 4.63474509]\n",
      "W3 =  [0.         0.         2.84662872 2.91937355 4.60594679]\n",
      "W3 =  [0.         0.         2.81723095 2.88744669 4.57714848]\n",
      "W3 =  [0.         0.         2.78783317 2.85551983 4.54835018]\n",
      "W3 =  [0.         0.         2.7584354  2.82359297 4.51955188]\n",
      "W3 =  [0.         0.         2.72903762 2.7916661  4.49075357]\n",
      "W3 =  [0.         0.         2.69963985 2.75973924 4.46195527]\n",
      "W3 =  [0.         0.         2.67024208 2.72781238 4.43315696]\n",
      "W3 =  [0.         0.         2.6408443  2.69588552 4.40435866]\n",
      "W3 =  [0.         0.         2.61144653 2.66395865 4.37556036]\n",
      "W3 =  [0.         0.         2.58204875 2.63203179 4.34676205]\n",
      "W3 =  [0.         0.         2.55265098 2.60010493 4.31796375]\n",
      "W3 =  [0.         0.         2.52325321 2.56817807 4.28916545]\n",
      "W3 =  [0.         0.         2.49385543 2.53625121 4.26036714]\n",
      "W3 =  [0.         0.         2.46445766 2.50432434 4.23156884]\n",
      "W3 =  [0.         0.         2.43505988 2.47239748 4.20277054]\n",
      "W3 =  [0.         0.         2.40566211 2.44047062 4.17397223]\n",
      "W3 =  [0.         0.         2.37626434 2.40854376 4.14517393]\n",
      "W3 =  [0.         0.         2.34686656 2.37661689 4.11637562]\n"
     ]
    }
   ],
   "source": [
    "# Sparsify each W2 to obtain W3 by setting all values below threshold 0.9 to 0 \n",
    "W3_list=[]\n",
    "for i in range(20):\n",
    "    W3 = W2_list[i]\n",
    "    for j in range(5):\n",
    "        if W3[j]<0.9:\n",
    "            W3[j]=0\n",
    "    print(\"W3 = \",W3)\n",
    "    W3_list.append(W3)\n"
   ]
  },
  {
   "cell_type": "code",
   "execution_count": null,
   "id": "12da4485",
   "metadata": {},
   "outputs": [],
   "source": []
  }
 ],
 "metadata": {
  "kernelspec": {
   "display_name": "base",
   "language": "python",
   "name": "python3"
  },
  "language_info": {
   "codemirror_mode": {
    "name": "ipython",
    "version": 3
   },
   "file_extension": ".py",
   "mimetype": "text/x-python",
   "name": "python",
   "nbconvert_exporter": "python",
   "pygments_lexer": "ipython3",
   "version": "3.9.13"
  },
  "vscode": {
   "interpreter": {
    "hash": "480e4e2dbd50c8cd9357d3518c5bb8a1d56e907cf1ff58025a5670ababb40a1b"
   }
  }
 },
 "nbformat": 4,
 "nbformat_minor": 5
}
