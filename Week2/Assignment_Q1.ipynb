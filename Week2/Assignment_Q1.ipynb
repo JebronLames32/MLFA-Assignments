{
 "cells": [
  {
   "cell_type": "code",
   "execution_count": 17,
   "id": "e6d3c253",
   "metadata": {},
   "outputs": [],
   "source": [
    "#Importing necessary libraries \n",
    "\n",
    "import numpy as np\n",
    "import pandas as pd  \n",
    "from sklearn import tree\n",
    "from sklearn.tree import DecisionTreeClassifier # Import Decision Tree Classifier\n",
    "from sklearn.model_selection import train_test_split # Import train_test_split function\n",
    "from sklearn import metrics #Import scikit-learn metrics module for accuracy calculation\n",
    "import matplotlib.pyplot as plt\n",
    "from matplotlib.colors import ListedColormap"
   ]
  },
  {
   "cell_type": "markdown",
   "id": "b7df7ab0",
   "metadata": {},
   "source": [
    "# Step 1\n",
    "#### For each feature, randomly select the range (a1,b1), (a2,b2), …. (a5, b5). Their midpoints are c1,c2,c3,c4,c5."
   ]
  },
  {
   "cell_type": "code",
   "execution_count": 18,
   "id": "7447f762",
   "metadata": {},
   "outputs": [],
   "source": [
    "#Making a 5D dataset. I.e. 5 features and 1 target variable\n",
    "#each feature is a real number\n",
    "\n",
    "\n",
    "feature_names = ['feature1', 'feature2', 'feature3', 'feature4', 'feature5']\n",
    "df = pd.DataFrame(columns=feature_names)\n",
    "\n",
    "#randomly selecting the range of values for each feature (a,b) where a<b\n",
    "range_of_features = []\n",
    "for i in range(5):\n",
    "    range_of_features.append([np.random.randint(1,1000),np.random.randint(1,1000)])\n",
    "    if range_of_features[i][0] > range_of_features[i][1]:\n",
    "        range_of_features[i][0], range_of_features[i][1] = range_of_features[i][1], range_of_features[i][0]\n",
    "\n",
    "#midpoint of each feature range\n",
    "midpoints = []\n",
    "for i in range(5):\n",
    "    midpoints.append((range_of_features[i][0] + range_of_features[i][1])/2)"
   ]
  },
  {
   "cell_type": "markdown",
   "id": "d6a4ec33",
   "metadata": {},
   "source": [
    "# Step 2\n",
    "#### Out of these 5, randomly choose 2 features (let’s say i and j) as “important”."
   ]
  },
  {
   "cell_type": "code",
   "execution_count": 19,
   "id": "8324a2a2",
   "metadata": {},
   "outputs": [],
   "source": [
    "#randomly choosing two features i and j as important features\n",
    "i_impt = np.random.randint(0,5)\n",
    "j_impt = np.random.randint(0,5)\n",
    "#making sure i and j are not same\n",
    "while i_impt == j_impt:\n",
    "    j_impt = np.random.randint(0,5)"
   ]
  },
  {
   "cell_type": "markdown",
   "id": "af53d4a7",
   "metadata": {},
   "source": [
    "# Step 3\n",
    "#### generate 1000 datapoints according to the following rule"
   ]
  },
  {
   "cell_type": "code",
   "execution_count": 20,
   "id": "73f8540e",
   "metadata": {},
   "outputs": [
    {
     "data": {
      "text/plain": [
       "'\\nFor each feature, generate value uniformly between the range (a,b), \\nI.e. x1 from (a1,b1), x2 from (a2,b2) etc. \\nThis way, you get feature vector x=[x1 x2 x3 x4 x5] for that datapoint.\\n'"
      ]
     },
     "execution_count": 20,
     "metadata": {},
     "output_type": "execute_result"
    }
   ],
   "source": [
    "#generating 1000 datapoints\n",
    "\"\"\"\n",
    "For each feature, generate value uniformly between the range (a,b), \n",
    "I.e. x1 from (a1,b1), x2 from (a2,b2) etc. \n",
    "This way, you get feature vector x=[x1 x2 x3 x4 x5] for that datapoint.\n",
    "\"\"\"\n",
    "# Didn't understand if the feature generation should be uniform as in equally spaced or randomly chosen uniformly. \n",
    "# Making both versions for now.\n"
   ]
  },
  {
   "cell_type": "code",
   "execution_count": 21,
   "id": "72c4f255",
   "metadata": {},
   "outputs": [
    {
     "name": "stdout",
     "output_type": "stream",
     "text": [
      "[463.         463.04804805 463.0960961  463.14414414 463.19219219\n",
      " 463.24024024 463.28828829 463.33633634 463.38438438 463.43243243]\n",
      "5\n",
      "1000\n"
     ]
    }
   ],
   "source": [
    "\n",
    "# equally spaced version\n",
    "x = []\n",
    "for i in range(5): \n",
    "    x.append(np.linspace(range_of_features[i][0], range_of_features[i][1], 1000))\n",
    "\n",
    "print(x[0][0:10])\n",
    "\n",
    "print(len(x))\n",
    "print(len(x[0]))\n",
    "datapoints = x\n",
    "#now x is a list of 5 lists, each of length 1000\n",
    "#making it a list of 1000 lists, each of length 5 by transposing\n",
    "# datapoints = np.array(x).T.tolist()\n",
    "# print(len(datapoints))\n",
    "# print(len(datapoints[0]))\n",
    "# print(datapoints[0])"
   ]
  },
  {
   "cell_type": "code",
   "execution_count": 6,
   "id": "95c12d93",
   "metadata": {},
   "outputs": [
    {
     "name": "stdout",
     "output_type": "stream",
     "text": [
      "5\n",
      "1000\n"
     ]
    }
   ],
   "source": [
    "# randomly chosen uniformly version\n",
    "x = []\n",
    "for i in range(5): \n",
    "    x.append(np.random.uniform(range_of_features[i][0], range_of_features[i][1], 1000))\n",
    "\n",
    "print(len(x))\n",
    "print(len(x[0]))\n",
    "datapoints = x\n",
    "#now x is a list of 5 lists, each of length 1000\n",
    "#making it a list of 1000 lists, each of length 5 by transposing\n",
    "# datapoints = np.array(x).T.tolist()\n",
    "# print(len(datapoints))\n",
    "# print(len(datapoints[0]))\n"
   ]
  },
  {
   "cell_type": "code",
   "execution_count": 22,
   "id": "a94b7972",
   "metadata": {},
   "outputs": [
    {
     "name": "stdout",
     "output_type": "stream",
     "text": [
      "5000\n",
      "1000\n",
      "113.09009009009009\n"
     ]
    }
   ],
   "source": [
    "#setting the datapoints as the features in the dataframe\n",
    "for i in range(5):\n",
    "    df[feature_names[i]] = datapoints[i]\n",
    "\n",
    "df.head()\n",
    "print(df.size)\n",
    "print(len(df))\n",
    "print(df[feature_names[3]][5])\n"
   ]
  },
  {
   "cell_type": "markdown",
   "id": "415146f0",
   "metadata": {},
   "source": [
    "# Step 4\n",
    "#### let’s say the “important features” (chosen earlier) are xi and xj. If xi > ci and xj >cj, then set the label of this datapoint as y=1 with probability 0.8, and y=0 with probability 0.2. But if xi < ci and xj < cj, then set the label of this datapoint as y=1 with probability 0.2, and y=0 with probability 0.8. Otherwise, set the label of this datapoint as y=1 with probability 0.5, and y=0 with probability 0.5."
   ]
  },
  {
   "cell_type": "code",
   "execution_count": 23,
   "id": "645728b6",
   "metadata": {},
   "outputs": [
    {
     "data": {
      "text/html": [
       "<div>\n",
       "<style scoped>\n",
       "    .dataframe tbody tr th:only-of-type {\n",
       "        vertical-align: middle;\n",
       "    }\n",
       "\n",
       "    .dataframe tbody tr th {\n",
       "        vertical-align: top;\n",
       "    }\n",
       "\n",
       "    .dataframe thead th {\n",
       "        text-align: right;\n",
       "    }\n",
       "</style>\n",
       "<table border=\"1\" class=\"dataframe\">\n",
       "  <thead>\n",
       "    <tr style=\"text-align: right;\">\n",
       "      <th></th>\n",
       "      <th>feature1</th>\n",
       "      <th>feature2</th>\n",
       "      <th>feature3</th>\n",
       "      <th>feature4</th>\n",
       "      <th>feature5</th>\n",
       "      <th>target</th>\n",
       "    </tr>\n",
       "  </thead>\n",
       "  <tbody>\n",
       "    <tr>\n",
       "      <th>0</th>\n",
       "      <td>463.000000</td>\n",
       "      <td>287.000000</td>\n",
       "      <td>723.000000</td>\n",
       "      <td>113.000000</td>\n",
       "      <td>71.000000</td>\n",
       "      <td>0</td>\n",
       "    </tr>\n",
       "    <tr>\n",
       "      <th>1</th>\n",
       "      <td>463.048048</td>\n",
       "      <td>287.341341</td>\n",
       "      <td>723.104104</td>\n",
       "      <td>113.018018</td>\n",
       "      <td>71.448448</td>\n",
       "      <td>0</td>\n",
       "    </tr>\n",
       "    <tr>\n",
       "      <th>2</th>\n",
       "      <td>463.096096</td>\n",
       "      <td>287.682683</td>\n",
       "      <td>723.208208</td>\n",
       "      <td>113.036036</td>\n",
       "      <td>71.896897</td>\n",
       "      <td>0</td>\n",
       "    </tr>\n",
       "    <tr>\n",
       "      <th>3</th>\n",
       "      <td>463.144144</td>\n",
       "      <td>288.024024</td>\n",
       "      <td>723.312312</td>\n",
       "      <td>113.054054</td>\n",
       "      <td>72.345345</td>\n",
       "      <td>0</td>\n",
       "    </tr>\n",
       "    <tr>\n",
       "      <th>4</th>\n",
       "      <td>463.192192</td>\n",
       "      <td>288.365365</td>\n",
       "      <td>723.416416</td>\n",
       "      <td>113.072072</td>\n",
       "      <td>72.793794</td>\n",
       "      <td>0</td>\n",
       "    </tr>\n",
       "  </tbody>\n",
       "</table>\n",
       "</div>"
      ],
      "text/plain": [
       "     feature1    feature2    feature3    feature4   feature5  target\n",
       "0  463.000000  287.000000  723.000000  113.000000  71.000000       0\n",
       "1  463.048048  287.341341  723.104104  113.018018  71.448448       0\n",
       "2  463.096096  287.682683  723.208208  113.036036  71.896897       0\n",
       "3  463.144144  288.024024  723.312312  113.054054  72.345345       0\n",
       "4  463.192192  288.365365  723.416416  113.072072  72.793794       0"
      ]
     },
     "execution_count": 23,
     "metadata": {},
     "output_type": "execute_result"
    }
   ],
   "source": [
    "#setting the labels for the datapoints\n",
    "labels = []\n",
    "for i in range(len(df)):\n",
    "    if df[feature_names[i_impt]][i] > midpoints[i_impt] and df[feature_names[j_impt]][i] > midpoints[j_impt]:\n",
    "        #If xi > ci and xj >cj, then set the label of this datapoint as y=1 with probability 0.8, and y=0 with probability 0.2\n",
    "        if np.random.random() < 0.8:\n",
    "            labels.append(1)\n",
    "        else:\n",
    "            labels.append(0)\n",
    "    elif df[feature_names[i_impt]][i] < midpoints[i_impt] and df[feature_names[j_impt]][i] < midpoints[j_impt]:\n",
    "        #If xi < ci and xj < cj, then set the label of this datapoint as y=0 with probability 0.8, and y=1 with probability 0.2\n",
    "        if np.random.random() < 0.8:\n",
    "            labels.append(0)\n",
    "        else:\n",
    "            labels.append(1)\n",
    "    else:\n",
    "        #If xi > ci and xj < cj, or xi < ci and xj > cj, then set the label of this datapoint as y=0 with probability 0.5, and y=1 with probability 0.5\n",
    "        if np.random.random() < 0.5:\n",
    "            labels.append(0)\n",
    "        else:\n",
    "            labels.append(1)\n",
    "\n",
    "#setting the labels as the target variable in the dataframe\n",
    "df['target'] = labels\n",
    "df.head()\n",
    "        \n",
    "    "
   ]
  },
  {
   "cell_type": "code",
   "execution_count": 24,
   "id": "f7d9f4df",
   "metadata": {},
   "outputs": [
    {
     "name": "stdout",
     "output_type": "stream",
     "text": [
      "1000\n",
      "5\n"
     ]
    }
   ],
   "source": [
    "print(len(labels))\n",
    "print(len(datapoints))"
   ]
  },
  {
   "cell_type": "markdown",
   "id": "151bbcee",
   "metadata": {},
   "source": [
    "# Step 5\n",
    "\n",
    "#### <ul><li>Randomly divide the dataset into training (80%) and testing (20%) sets</li> <li>Run Decision Tree using the library functions and report test accuracy.</li> <li>Visualize the tree.</li></ul>"
   ]
  },
  {
   "cell_type": "code",
   "execution_count": 25,
   "id": "1c6d1154",
   "metadata": {},
   "outputs": [],
   "source": [
    "# Split the given data into 80 percent training data and 20 percent testing data\n",
    "X = df[feature_names]\n",
    "y = df['target']\n",
    "x_train, x_test, y_train, y_test = train_test_split(X, y, test_size=0.2)"
   ]
  },
  {
   "cell_type": "code",
   "execution_count": 26,
   "id": "fd22ff6b",
   "metadata": {},
   "outputs": [],
   "source": [
    "# Create Decision Tree classifer object\n",
    "Tree = DecisionTreeClassifier(criterion = \"entropy\", max_depth =4)\n",
    "\n",
    "# Fit the generated data into the model\n",
    "Tree = Tree.fit(x_train, y_train)"
   ]
  },
  {
   "cell_type": "code",
   "execution_count": 27,
   "id": "13e58bc7",
   "metadata": {},
   "outputs": [],
   "source": [
    "# Predict the response for test dataset\n",
    "y_pred = Tree.predict(x_test)"
   ]
  },
  {
   "cell_type": "code",
   "execution_count": 28,
   "id": "2b57ffb9",
   "metadata": {},
   "outputs": [
    {
     "name": "stdout",
     "output_type": "stream",
     "text": [
      "Accuracy: 0.76\n"
     ]
    }
   ],
   "source": [
    "# percentage of accuracy\n",
    "print(\"Accuracy:\",metrics.accuracy_score(y_test, y_pred))"
   ]
  },
  {
   "cell_type": "markdown",
   "id": "6cad59a2",
   "metadata": {},
   "source": [
    "It is currently giving an accuracy of 65-70 % accuracy each time for equally distributed case and 60-70 % accuracy for uniformly random case. This is probably supposed to happen because, probablity of 0.5 case may be dominating the dataset since the chance of this being generated randomly is 50%.\n",
    "\n",
    "<b> 0.8 * 50% + 0.5 * 50% = 65 % </b>\n",
    "\n",
    "which is around the answer we are getting."
   ]
  },
  {
   "cell_type": "code",
   "execution_count": 15,
   "id": "40f00a82",
   "metadata": {},
   "outputs": [
    {
     "name": "stdout",
     "output_type": "stream",
     "text": [
      "Confusion Matrix: [[90 20]\n",
      " [51 39]]\n"
     ]
    }
   ],
   "source": [
    "# confusion matrix\n",
    "print(\"Confusion Matrix:\",metrics.confusion_matrix(y_test, y_pred))"
   ]
  },
  {
   "cell_type": "code",
   "execution_count": 16,
   "id": "93cf02cf",
   "metadata": {},
   "outputs": [
    {
     "data": {
      "text/plain": [
       "[Text(0.5, 0.9, 'X[4] <= 599.776\\nentropy = 0.999\\nsamples = 800\\nvalue = [414, 386]'),\n",
       " Text(0.25, 0.7, 'X[2] <= 269.794\\nentropy = 0.904\\nsamples = 407\\nvalue = [277, 130]'),\n",
       " Text(0.125, 0.5, 'X[2] <= 107.467\\nentropy = 0.621\\nsamples = 207\\nvalue = [175, 32]'),\n",
       " Text(0.0625, 0.3, 'X[2] <= 106.416\\nentropy = 0.835\\nsamples = 64\\nvalue = [47, 17]'),\n",
       " Text(0.03125, 0.1, 'entropy = 0.798\\nsamples = 62\\nvalue = [47, 15]'),\n",
       " Text(0.09375, 0.1, 'entropy = 0.0\\nsamples = 2\\nvalue = [0, 2]'),\n",
       " Text(0.1875, 0.3, 'X[2] <= 139.104\\nentropy = 0.484\\nsamples = 143\\nvalue = [128, 15]'),\n",
       " Text(0.15625, 0.1, 'entropy = 0.0\\nsamples = 33\\nvalue = [33, 0]'),\n",
       " Text(0.21875, 0.1, 'entropy = 0.575\\nsamples = 110\\nvalue = [95, 15]'),\n",
       " Text(0.375, 0.5, 'X[2] <= 487.699\\nentropy = 1.0\\nsamples = 200\\nvalue = [102, 98]'),\n",
       " Text(0.3125, 0.3, 'X[2] <= 481.448\\nentropy = 0.997\\nsamples = 188\\nvalue = [100, 88]'),\n",
       " Text(0.28125, 0.1, 'entropy = 0.999\\nsamples = 182\\nvalue = [94, 88]'),\n",
       " Text(0.34375, 0.1, 'entropy = 0.0\\nsamples = 6\\nvalue = [6, 0]'),\n",
       " Text(0.4375, 0.3, 'X[2] <= 492.964\\nentropy = 0.65\\nsamples = 12\\nvalue = [2, 10]'),\n",
       " Text(0.40625, 0.1, 'entropy = 0.439\\nsamples = 11\\nvalue = [1, 10]'),\n",
       " Text(0.46875, 0.1, 'entropy = 0.0\\nsamples = 1\\nvalue = [1, 0]'),\n",
       " Text(0.75, 0.7, 'X[2] <= 259.924\\nentropy = 0.933\\nsamples = 393\\nvalue = [137, 256]'),\n",
       " Text(0.625, 0.5, 'X[0] <= 852.792\\nentropy = 1.0\\nsamples = 191\\nvalue = [96, 95]'),\n",
       " Text(0.5625, 0.3, 'X[2] <= 205.735\\nentropy = 0.994\\nsamples = 169\\nvalue = [92, 77]'),\n",
       " Text(0.53125, 0.1, 'entropy = 0.973\\nsamples = 124\\nvalue = [74, 50]'),\n",
       " Text(0.59375, 0.1, 'entropy = 0.971\\nsamples = 45\\nvalue = [18, 27]'),\n",
       " Text(0.6875, 0.3, 'X[4] <= 642.743\\nentropy = 0.684\\nsamples = 22\\nvalue = [4, 18]'),\n",
       " Text(0.65625, 0.1, 'entropy = 0.31\\nsamples = 18\\nvalue = [1, 17]'),\n",
       " Text(0.71875, 0.1, 'entropy = 0.811\\nsamples = 4\\nvalue = [3, 1]'),\n",
       " Text(0.875, 0.5, 'X[0] <= 922.497\\nentropy = 0.728\\nsamples = 202\\nvalue = [41, 161]'),\n",
       " Text(0.8125, 0.3, 'X[0] <= 845.261\\nentropy = 0.697\\nsamples = 197\\nvalue = [37, 160]'),\n",
       " Text(0.78125, 0.1, 'entropy = 0.737\\nsamples = 178\\nvalue = [37, 141]'),\n",
       " Text(0.84375, 0.1, 'entropy = 0.0\\nsamples = 19\\nvalue = [0, 19]'),\n",
       " Text(0.9375, 0.3, 'X[2] <= 333.835\\nentropy = 0.722\\nsamples = 5\\nvalue = [4, 1]'),\n",
       " Text(0.90625, 0.1, 'entropy = 0.0\\nsamples = 1\\nvalue = [0, 1]'),\n",
       " Text(0.96875, 0.1, 'entropy = 0.0\\nsamples = 4\\nvalue = [4, 0]')]"
      ]
     },
     "execution_count": 16,
     "metadata": {},
     "output_type": "execute_result"
    },
    {
     "data": {
      "image/png": "[encoded data removed]",
      "text/plain": [
       "<Figure size 640x480 with 1 Axes>"
      ]
     },
     "metadata": {},
     "output_type": "display_data"
    }
   ],
   "source": [
    "# Plot the decision tree\n",
    "tree.plot_tree(Tree)"
   ]
  },
  {
   "cell_type": "markdown",
   "id": "ba8f070b",
   "metadata": {},
   "source": [
    "Seems like our tree is overfitting"
   ]
  },
  {
   "cell_type": "code",
   "execution_count": 31,
   "id": "b67efc5b",
   "metadata": {},
   "outputs": [
    {
     "name": "stdout",
     "output_type": "stream",
     "text": [
      "|--- feature3 <= 773.54\n",
      "|   |--- feature4 <= 121.50\n",
      "|   |   |--- feature1 <= 484.07\n",
      "|   |   |   |--- feature3 <= 767.92\n",
      "|   |   |   |   |--- class: 0\n",
      "|   |   |   |--- feature3 >  767.92\n",
      "|   |   |   |   |--- class: 0\n",
      "|   |   |--- feature1 >  484.07\n",
      "|   |   |   |--- feature4 <= 121.35\n",
      "|   |   |   |   |--- class: 0\n",
      "|   |   |   |--- feature4 >  121.35\n",
      "|   |   |   |   |--- class: 0\n",
      "|   |--- feature4 >  121.50\n",
      "|   |   |--- class: 0\n",
      "|--- feature3 >  773.54\n",
      "|   |--- feature2 <= 455.62\n",
      "|   |   |--- class: 1\n",
      "|   |--- feature2 >  455.62\n",
      "|   |   |--- feature3 <= 774.69\n",
      "|   |   |   |--- class: 0\n",
      "|   |   |--- feature3 >  774.69\n",
      "|   |   |   |--- feature1 <= 499.97\n",
      "|   |   |   |   |--- class: 1\n",
      "|   |   |   |--- feature1 >  499.97\n",
      "|   |   |   |   |--- class: 1\n",
      "\n"
     ]
    }
   ],
   "source": [
    "from sklearn.tree import export_text\n",
    "r = export_text(Tree, feature_names=feature_names)\n",
    "print(r)"
   ]
  },
  {
   "cell_type": "code",
   "execution_count": null,
   "id": "d1a81107",
   "metadata": {},
   "outputs": [],
   "source": []
  }
 ],
 "metadata": {
  "kernelspec": {
   "display_name": "Python 3 (ipykernel)",
   "language": "python",
   "name": "python3"
  },
  "language_info": {
   "codemirror_mode": {
    "name": "ipython",
    "version": 3
   },
   "file_extension": ".py",
   "mimetype": "text/x-python",
   "name": "python",
   "nbconvert_exporter": "python",
   "pygments_lexer": "ipython3",
   "version": "3.9.13"
  },
  "vscode": {
   "interpreter": {
    "hash": "31f2aee4e71d21fbe5cf8b01ff0e069b9275f58929596ceb00d14d90e3e16cd6"
   }
  }
 },
 "nbformat": 4,
 "nbformat_minor": 5
}
